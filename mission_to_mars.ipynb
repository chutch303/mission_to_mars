{
 "cells": [
  {
   "cell_type": "code",
   "execution_count": 3,
   "metadata": {},
   "outputs": [],
   "source": [
    "from selenium import webdriver\n",
    "from selenium.webdriver.common.by import By\n",
    "from selenium.webdriver.support.ui import WebDriverWait\n",
    "from selenium.webdriver.support import expected_conditions as EC\n",
    "\n",
    "import time\n",
    "import datetime\n",
    "import pymongo\n",
    "from pymongo import MongoClient"
   ]
  },
  {
   "cell_type": "code",
   "execution_count": 4,
   "metadata": {},
   "outputs": [],
   "source": [
    "def instantiate_driver():\n",
    "    chrome_options = webdriver.ChromeOptions()\n",
    "    chrome_options.add_argument('--no-sandbox')\n",
    "    chrome_options.add_argument('--window-size=1420,1080')\n",
    "    #chrome_options.add_argument('--headless')\n",
    "    chrome_options.add_argument('--disable-gpu')\n",
    "    driver = webdriver.Chrome(executable_path=r'C:\\Users\\chutc\\Documents\\Class Work\\chromedriver.exe', \n",
    "        chrome_options=chrome_options)\n",
    "    return driver\n",
    "\n",
    "driver = instantiate_driver()\n",
    "\n",
    "news_url = \"https://mars.nasa.gov/news/?page=0&per_page=40&order=publish_date+desc%2Ccreated_at+desc&search=&category=19%2C165%2C184%2C204&blank_scope=Latest\"\n",
    "\n",
    "driver.get(news_url)"
   ]
  },
  {
   "cell_type": "code",
   "execution_count": 5,
   "metadata": {},
   "outputs": [],
   "source": [
    "news_url = \"https://mars.nasa.gov/news/?page=0&per_page=40&order=publish_date+desc%2Ccreated_at+desc&search=&category=19%2C165%2C184%2C204&blank_scope=Latest\""
   ]
  },
  {
   "cell_type": "code",
   "execution_count": 6,
   "metadata": {},
   "outputs": [
    {
     "name": "stdout",
     "output_type": "stream",
     "text": [
      "Six Things About Opportunity's Recovery Efforts\n"
     ]
    }
   ],
   "source": [
    "news_title = driver.find_element_by_class_name(\"content_title\").text\n",
    "print(news_title)"
   ]
  },
  {
   "cell_type": "code",
   "execution_count": 7,
   "metadata": {},
   "outputs": [
    {
     "name": "stdout",
     "output_type": "stream",
     "text": [
      "The global dust storm on Mars could soon let in enough sunlight for the Opportunity rover to recharge.\n"
     ]
    }
   ],
   "source": [
    "news_p = driver.find_element_by_class_name(\"article_teaser_body\").text\n",
    "print(news_p)"
   ]
  },
  {
   "cell_type": "code",
   "execution_count": 45,
   "metadata": {},
   "outputs": [],
   "source": [
    "news_dict = {}\n",
    "news_dict['title'] = news_title\n",
    "news_dict['teaser'] = news_p"
   ]
  },
  {
   "cell_type": "code",
   "execution_count": 8,
   "metadata": {},
   "outputs": [],
   "source": [
    "image_url = \"https://www.jpl.nasa.gov/spaceimages/?search=&category=Mars\""
   ]
  },
  {
   "cell_type": "code",
   "execution_count": 9,
   "metadata": {},
   "outputs": [],
   "source": [
    "driver.get(image_url)"
   ]
  },
  {
   "cell_type": "code",
   "execution_count": 10,
   "metadata": {},
   "outputs": [],
   "source": [
    "full_image = driver.find_element_by_xpath('//*[@id=\"full_image\"]')"
   ]
  },
  {
   "cell_type": "code",
   "execution_count": 11,
   "metadata": {},
   "outputs": [
    {
     "name": "stdout",
     "output_type": "stream",
     "text": [
      "https://www.jpl.nasa.gov/spaceimages/images/mediumsize/PIA17200_ip.jpg\n"
     ]
    }
   ],
   "source": [
    "relative_link = full_image.get_attribute('data-fancybox-href')\n",
    "featured_image_url = 'https://www.jpl.nasa.gov' + str(relative_link)\n",
    "print(featured_image_url)"
   ]
  },
  {
   "cell_type": "code",
   "execution_count": 12,
   "metadata": {},
   "outputs": [],
   "source": [
    "mars_weather_url = \"https://twitter.com/marswxreport?lang=en\""
   ]
  },
  {
   "cell_type": "code",
   "execution_count": 13,
   "metadata": {},
   "outputs": [],
   "source": [
    "driver.get(mars_weather_url)"
   ]
  },
  {
   "cell_type": "code",
   "execution_count": 14,
   "metadata": {},
   "outputs": [],
   "source": [
    "tweets = driver.find_elements_by_class_name(\"js-tweet-text-container\")"
   ]
  },
  {
   "cell_type": "code",
   "execution_count": 15,
   "metadata": {},
   "outputs": [
    {
     "data": {
      "text/plain": [
       "['Sol 2142 (2018-08-15), high -10C/14F, low -71C/-95F, pressure at 8.65 hPa, daylight 05:28-17:41',\n",
       " 'Sol 2141 (2018-08-14), high -17C/1F, low -66C/-86F, pressure at 8.63 hPa, daylight 05:27-17:41',\n",
       " 'Clearing skies following the Mars dust storm are evident in these images by @TerryLovejoy66',\n",
       " 'Sol 2140 (2018-08-13), high -10C/14F, low -70C/-93F, pressure at 8.58 hPa, daylight 05:27-17:40',\n",
       " 'Sol 2139 (2018-08-12), high -11C/12F, low -70C/-93F, pressure at 8.57 hPa, daylight 05:27-17:40',\n",
       " 'Sol 2138 (2018-08-11), high -16C/3F, low -68C/-90F, pressure at 8.58 hPa, daylight 05:26-17:39',\n",
       " 'Sol 2137 (2018-08-10), high -13C/8F, low -66C/-86F, pressure at 8.57 hPa, daylight 05:26-17:38',\n",
       " 'Sol 2136 (2018-08-09), high -13C/8F, low -66C/-86F, pressure at 8.56 hPa, daylight 05:26-17:38',\n",
       " 'Sol 2135 (2018-08-08), high -15C/5F, low -66C/-86F, pressure at 8.54 hPa, daylight 05:25-17:37',\n",
       " 'Sol 2134 (2018-08-07), high -14C/6F, low -65C/-84F, pressure at 8.51 hPa, daylight 05:25-17:37',\n",
       " 'Sol 2133 (2018-08-06), high -18C/0F, low -65C/-84F, pressure at 8.49 hPa, daylight 05:24-17:37',\n",
       " 'Sol 2132 (2018-08-05), high -16C/3F, low -69C/-92F, pressure at 8.47 hPa, daylight 05:24-17:36',\n",
       " 'Sol 2131 (2018-08-04), high -21C/-5F, low -67C/-88F, pressure at 8.46 hPa, daylight 05:24-17:36',\n",
       " 'Sol 2130 (2018-08-03), high -18C/0F, low -62C/-79F, pressure at 8.44 hPa, daylight 05:24-17:35',\n",
       " 'Sol 2129 (2018-08-02), high -21C/-5F, low -66C/-86F, pressure at 8.43 hPa, daylight 05:23-17:35',\n",
       " 'Sol 2128 (2018-08-01), high -20C/-3F, low -65C/-84F, pressure at 8.41 hPa, daylight 05:23-17:34',\n",
       " 'Sol 2127 (2018-07-31), high -18C/0F, low -69C/-92F, pressure at 8.38 hPa, daylight 05:23-17:34',\n",
       " 'Sol 2126 (2018-07-30), high -18C/0F, low -63C/-81F, pressure at 8.37 hPa, daylight 05:22-17:33',\n",
       " 'Sol 2125 (2018-07-29), high -17C/1F, low -66C/-86F, pressure at 8.34 hPa, daylight 05:22-17:33',\n",
       " 'Sol 2124 (2018-07-28), high -17C/1F, low -67C/-88F, pressure at 8.32 hPa, daylight 05:22-17:33']"
      ]
     },
     "execution_count": 15,
     "metadata": {},
     "output_type": "execute_result"
    }
   ],
   "source": [
    "[x.text for x in tweets]"
   ]
  },
  {
   "cell_type": "code",
   "execution_count": 16,
   "metadata": {},
   "outputs": [
    {
     "data": {
      "text/plain": [
       "'Sol 2133 (2018-08-06), high -18C/0F, low -65C/-84F, pressure at 8.49 hPa, daylight 05:24-17:37'"
      ]
     },
     "execution_count": 16,
     "metadata": {},
     "output_type": "execute_result"
    }
   ],
   "source": [
    "tweets[10].text"
   ]
  },
  {
   "cell_type": "code",
   "execution_count": 17,
   "metadata": {},
   "outputs": [
    {
     "name": "stdout",
     "output_type": "stream",
     "text": [
      "Sol 2133 (2018-08-06), high -18C/0F, low -65C/-84F, pressure at 8.49 hPa, daylight 05:24-17:37\n"
     ]
    }
   ],
   "source": [
    "mars_weather = tweets[10].text\n",
    "print(mars_weather)"
   ]
  },
  {
   "cell_type": "code",
   "execution_count": 18,
   "metadata": {},
   "outputs": [],
   "source": [
    "cerberus_url = \"https://astrogeology.usgs.gov/search/map/Mars/Viking/cerberus_enhanced\""
   ]
  },
  {
   "cell_type": "code",
   "execution_count": 19,
   "metadata": {},
   "outputs": [],
   "source": [
    "driver = instantiate_driver()\n",
    "driver.get(cerberus_url)"
   ]
  },
  {
   "cell_type": "code",
   "execution_count": 20,
   "metadata": {},
   "outputs": [],
   "source": [
    "ceb_xpath = driver.find_element_by_xpath('//*[@id=\"wide-image\"]/img')"
   ]
  },
  {
   "cell_type": "code",
   "execution_count": 21,
   "metadata": {},
   "outputs": [
    {
     "name": "stdout",
     "output_type": "stream",
     "text": [
      "https://astrogeology.usgs.gov/cache/images/cfa62af2557222a02478f1fcd781d445_cerberus_enhanced.tif_full.jpg\n"
     ]
    }
   ],
   "source": [
    "ceb_img_url = ceb_xpath.get_attribute('src')\n",
    "print(ceb_img_url)"
   ]
  },
  {
   "cell_type": "code",
   "execution_count": 22,
   "metadata": {},
   "outputs": [
    {
     "name": "stdout",
     "output_type": "stream",
     "text": [
      "Cerberus Hemisphere Enhanced\n"
     ]
    }
   ],
   "source": [
    "ceb_title = driver.find_element_by_css_selector('h2').text\n",
    "print(ceb_title)"
   ]
  },
  {
   "cell_type": "code",
   "execution_count": 23,
   "metadata": {},
   "outputs": [],
   "source": [
    "ceb_dict = {}\n",
    "ceb_dict['img_url'] = ceb_img_url\n",
    "ceb_dict['title'] = ceb_title"
   ]
  },
  {
   "cell_type": "code",
   "execution_count": 24,
   "metadata": {},
   "outputs": [],
   "source": [
    "schiaparelli_url = 'https://astrogeology.usgs.gov/search/map/Mars/Viking/schiaparelli_enhanced'"
   ]
  },
  {
   "cell_type": "code",
   "execution_count": 25,
   "metadata": {},
   "outputs": [],
   "source": [
    "driver.get(schiaparelli_url)"
   ]
  },
  {
   "cell_type": "code",
   "execution_count": 26,
   "metadata": {},
   "outputs": [],
   "source": [
    "schia_xpath = driver.find_element_by_xpath('//*[@id=\"wide-image\"]/img')"
   ]
  },
  {
   "cell_type": "code",
   "execution_count": 27,
   "metadata": {},
   "outputs": [
    {
     "name": "stdout",
     "output_type": "stream",
     "text": [
      "https://astrogeology.usgs.gov/cache/images/3cdd1cbf5e0813bba925c9030d13b62e_schiaparelli_enhanced.tif_full.jpg\n"
     ]
    }
   ],
   "source": [
    "schia_img_url = schia_xpath.get_attribute('src')\n",
    "print(schia_img_url)"
   ]
  },
  {
   "cell_type": "code",
   "execution_count": 28,
   "metadata": {},
   "outputs": [
    {
     "name": "stdout",
     "output_type": "stream",
     "text": [
      "Schiaparelli Hemisphere Enhanced\n"
     ]
    }
   ],
   "source": [
    "schia_title = driver.find_element_by_css_selector('h2').text\n",
    "print(schia_title)"
   ]
  },
  {
   "cell_type": "code",
   "execution_count": 29,
   "metadata": {},
   "outputs": [],
   "source": [
    "schia_dict = {}\n",
    "schia_dict['img_url'] = schia_img_url\n",
    "schia_dict['title'] = schia_title"
   ]
  },
  {
   "cell_type": "code",
   "execution_count": 30,
   "metadata": {},
   "outputs": [],
   "source": [
    "syrtis_url = 'https://astrogeology.usgs.gov/search/map/Mars/Viking/syrtis_major_enhanced'"
   ]
  },
  {
   "cell_type": "code",
   "execution_count": 31,
   "metadata": {},
   "outputs": [],
   "source": [
    "driver.get(syrtis_url)"
   ]
  },
  {
   "cell_type": "code",
   "execution_count": 32,
   "metadata": {},
   "outputs": [],
   "source": [
    "syrtis_xpath = driver.find_element_by_xpath('//*[@id=\"wide-image\"]/img')"
   ]
  },
  {
   "cell_type": "code",
   "execution_count": 33,
   "metadata": {},
   "outputs": [
    {
     "name": "stdout",
     "output_type": "stream",
     "text": [
      "https://astrogeology.usgs.gov/cache/images/ae209b4e408bb6c3e67b6af38168cf28_syrtis_major_enhanced.tif_full.jpg\n"
     ]
    }
   ],
   "source": [
    "syrtis_img_url = syrtis_xpath.get_attribute('src')\n",
    "print(syrtis_img_url)"
   ]
  },
  {
   "cell_type": "code",
   "execution_count": 34,
   "metadata": {},
   "outputs": [
    {
     "name": "stdout",
     "output_type": "stream",
     "text": [
      "Syrtis Major Hemisphere Enhanced\n"
     ]
    }
   ],
   "source": [
    "syrtis_title = driver.find_element_by_css_selector('h2').text\n",
    "print(syrtis_title)"
   ]
  },
  {
   "cell_type": "code",
   "execution_count": 35,
   "metadata": {},
   "outputs": [],
   "source": [
    "syrtis_dict = {}\n",
    "syrtis_dict['img_url'] = syrtis_img_url\n",
    "syrtis_dict['title'] = syrtis_title"
   ]
  },
  {
   "cell_type": "code",
   "execution_count": 36,
   "metadata": {},
   "outputs": [],
   "source": [
    "valles_url = 'https://astrogeology.usgs.gov/search/map/Mars/Viking/valles_marineris_enhanced'"
   ]
  },
  {
   "cell_type": "code",
   "execution_count": 37,
   "metadata": {},
   "outputs": [],
   "source": [
    "driver.get(valles_url)"
   ]
  },
  {
   "cell_type": "code",
   "execution_count": 38,
   "metadata": {},
   "outputs": [],
   "source": [
    "valles_xpath = driver.find_element_by_xpath('//*[@id=\"wide-image\"]/img')"
   ]
  },
  {
   "cell_type": "code",
   "execution_count": 39,
   "metadata": {},
   "outputs": [
    {
     "name": "stdout",
     "output_type": "stream",
     "text": [
      "https://astrogeology.usgs.gov/cache/images/7cf2da4bf549ed01c17f206327be4db7_valles_marineris_enhanced.tif_full.jpg\n"
     ]
    }
   ],
   "source": [
    "valles_img_url = valles_xpath.get_attribute('src')\n",
    "print(valles_img_url)"
   ]
  },
  {
   "cell_type": "code",
   "execution_count": 40,
   "metadata": {},
   "outputs": [
    {
     "name": "stdout",
     "output_type": "stream",
     "text": [
      "Valles Marineris Hemisphere Enhanced\n"
     ]
    }
   ],
   "source": [
    "valles_title = driver.find_element_by_css_selector('h2').text\n",
    "print(valles_title)"
   ]
  },
  {
   "cell_type": "code",
   "execution_count": 41,
   "metadata": {},
   "outputs": [],
   "source": [
    "valles_dict = {}\n",
    "valles_dict['img_url'] = valles_img_url\n",
    "valles_dict['title'] = valles_title"
   ]
  },
  {
   "cell_type": "code",
   "execution_count": 42,
   "metadata": {},
   "outputs": [],
   "source": [
    "hemisphere_image_urls = [ceb_dict, schia_dict, syrtis_dict, valles_dict]"
   ]
  },
  {
   "cell_type": "code",
   "execution_count": 43,
   "metadata": {},
   "outputs": [
    {
     "name": "stdout",
     "output_type": "stream",
     "text": [
      "[{'img_url': 'https://astrogeology.usgs.gov/cache/images/cfa62af2557222a02478f1fcd781d445_cerberus_enhanced.tif_full.jpg', 'title': 'Cerberus Hemisphere Enhanced'}, {'img_url': 'https://astrogeology.usgs.gov/cache/images/3cdd1cbf5e0813bba925c9030d13b62e_schiaparelli_enhanced.tif_full.jpg', 'title': 'Schiaparelli Hemisphere Enhanced'}, {'img_url': 'https://astrogeology.usgs.gov/cache/images/ae209b4e408bb6c3e67b6af38168cf28_syrtis_major_enhanced.tif_full.jpg', 'title': 'Syrtis Major Hemisphere Enhanced'}, {'img_url': 'https://astrogeology.usgs.gov/cache/images/7cf2da4bf549ed01c17f206327be4db7_valles_marineris_enhanced.tif_full.jpg', 'title': 'Valles Marineris Hemisphere Enhanced'}]\n"
     ]
    }
   ],
   "source": [
    "print(hemisphere_image_urls)"
   ]
  },
  {
   "cell_type": "code",
   "execution_count": 46,
   "metadata": {},
   "outputs": [
    {
     "data": {
      "text/plain": [
       "{'feat_img': 'https://www.jpl.nasa.gov/spaceimages/images/mediumsize/PIA17200_ip.jpg',\n",
       " 'hemisphere_image_urls': [{'img_url': 'https://astrogeology.usgs.gov/cache/images/cfa62af2557222a02478f1fcd781d445_cerberus_enhanced.tif_full.jpg',\n",
       "   'title': 'Cerberus Hemisphere Enhanced'},\n",
       "  {'img_url': 'https://astrogeology.usgs.gov/cache/images/3cdd1cbf5e0813bba925c9030d13b62e_schiaparelli_enhanced.tif_full.jpg',\n",
       "   'title': 'Schiaparelli Hemisphere Enhanced'},\n",
       "  {'img_url': 'https://astrogeology.usgs.gov/cache/images/ae209b4e408bb6c3e67b6af38168cf28_syrtis_major_enhanced.tif_full.jpg',\n",
       "   'title': 'Syrtis Major Hemisphere Enhanced'},\n",
       "  {'img_url': 'https://astrogeology.usgs.gov/cache/images/7cf2da4bf549ed01c17f206327be4db7_valles_marineris_enhanced.tif_full.jpg',\n",
       "   'title': 'Valles Marineris Hemisphere Enhanced'}],\n",
       " 'mars_news': {'teaser': 'The global dust storm on Mars could soon let in enough sunlight for the Opportunity rover to recharge.',\n",
       "  'title': \"Six Things About Opportunity's Recovery Efforts\"},\n",
       " 'mars_weather': 'Sol 2133 (2018-08-06), high -18C/0F, low -65C/-84F, pressure at 8.49 hPa, daylight 05:24-17:37'}"
      ]
     },
     "execution_count": 46,
     "metadata": {},
     "output_type": "execute_result"
    }
   ],
   "source": [
    "all_data = {}\n",
    "all_data['hemisphere_image_urls'] = hemisphere_image_urls\n",
    "all_data['mars_news'] = news_dict\n",
    "all_data['feat_img'] = featured_image_url\n",
    "all_data['mars_weather'] = mars_weather\n",
    "all_data"
   ]
  },
  {
   "cell_type": "code",
   "execution_count": null,
   "metadata": {},
   "outputs": [],
   "source": []
  },
  {
   "cell_type": "code",
   "execution_count": null,
   "metadata": {},
   "outputs": [],
   "source": []
  }
 ],
 "metadata": {
  "kernelspec": {
   "display_name": "Python 3",
   "language": "python",
   "name": "python3"
  },
  "language_info": {
   "codemirror_mode": {
    "name": "ipython",
    "version": 3
   },
   "file_extension": ".py",
   "mimetype": "text/x-python",
   "name": "python",
   "nbconvert_exporter": "python",
   "pygments_lexer": "ipython3",
   "version": "3.6.6"
  }
 },
 "nbformat": 4,
 "nbformat_minor": 2
}
